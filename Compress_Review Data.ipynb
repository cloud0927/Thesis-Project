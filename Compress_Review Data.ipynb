{
 "cells": [
  {
   "cell_type": "code",
   "execution_count": 5,
   "id": "1b01b19c-4158-41b1-963d-6690922547ea",
   "metadata": {},
   "outputs": [
    {
     "name": "stdout",
     "output_type": "stream",
     "text": [
      "Study 1: Apple Mac Mini.txt has been cleaned and saved.\n",
      "Study 3: Apple Watch.txt has been cleaned and saved.\n",
      "Study 4: Apple iPad.txt has been cleaned and saved.\n",
      "Study 5: Apple Macbook Air.txt has been cleaned and saved.\n",
      "Study 6: Apple AirPods Max.txt has been cleaned and saved.\n",
      "All files have been processed and cleaned.\n"
     ]
    }
   ],
   "source": [
    "import os\n",
    "import re\n",
    "\n",
    "# Function to remove unnecessary spaces\n",
    "def remove_unnecessary_spaces(text):\n",
    "    # Removing extra spaces, tabs, and new lines\n",
    "    text = re.sub(r'\\s+', ' ', text)\n",
    "    text = re.sub(r'\\n\\s*\\n', '\\n', text) \n",
    "    return text\n",
    "\n",
    "# Input and output folder paths\n",
    "input_folder = '/Users/g/Downloads/Review Data_txt'\n",
    "output_folder = '/Users/g/Downloads/Review Data_Compressed'\n",
    "\n",
    "# Ensure output folder exists\n",
    "os.makedirs(output_folder, exist_ok=True)\n",
    "\n",
    "# Process each file in the input folder\n",
    "for idx, filename in enumerate(os.listdir(input_folder)):\n",
    "    if filename.endswith('.txt'):\n",
    "        file_path = os.path.join(input_folder, filename)\n",
    "        with open(file_path, 'r', encoding='utf-8') as file:\n",
    "            content = file.read()\n",
    "        \n",
    "        # Clean the content\n",
    "        cleaned_content = remove_unnecessary_spaces(content)\n",
    "        \n",
    "        # Define output file path\n",
    "        output_path = os.path.join(output_folder, f'{os.path.splitext(filename)[0]}_compressed.txt')\n",
    "        # Save the cleaned content to the output file\n",
    "        with open(output_path, 'w', encoding='utf-8') as file:\n",
    "            file.write(cleaned_content)\n",
    "        \n",
    "        print(f\"File {idx + 1}: {filename} has been cleaned and saved.\")\n",
    "\n",
    "print(\"All done!\")"
   ]
  },
  {
   "cell_type": "code",
   "execution_count": null,
   "id": "77db7198-ecd9-4724-9de7-ab372a200250",
   "metadata": {},
   "outputs": [],
   "source": []
  }
 ],
 "metadata": {
  "kernelspec": {
   "display_name": "Python 3 (ipykernel)",
   "language": "python",
   "name": "python3"
  },
  "language_info": {
   "codemirror_mode": {
    "name": "ipython",
    "version": 3
   },
   "file_extension": ".py",
   "mimetype": "text/x-python",
   "name": "python",
   "nbconvert_exporter": "python",
   "pygments_lexer": "ipython3",
   "version": "3.12.5"
  }
 },
 "nbformat": 4,
 "nbformat_minor": 5
}
